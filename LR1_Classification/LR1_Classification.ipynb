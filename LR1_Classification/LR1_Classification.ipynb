{
 "cells": [
  {
   "cell_type": "markdown",
   "metadata": {},
   "source": [
    "# Лабораторная работа №1"
   ]
  },
  {
   "cell_type": "markdown",
   "metadata": {},
   "source": [
    "---\n",
    "Курс: Машинное обучение  \n",
    "Выполнил: студент группы М8О-103М-20 Воробьев А.В.  \n",
    "Проверил: Кондаратцев В.Л."
   ]
  },
  {
   "cell_type": "markdown",
   "metadata": {},
   "source": [
    "---\n",
    "#### Ссылка на датасет \"Billboard \"The Hot 100\" Songs\":  \n",
    "https://www.kaggle.com/dhruvildave/billboard-the-hot-100-songs"
   ]
  },
  {
   "cell_type": "markdown",
   "metadata": {},
   "source": [
    "---\n",
    "#### Подключим необходимые библиотеки:"
   ]
  },
  {
   "cell_type": "code",
   "execution_count": 55,
   "metadata": {},
   "outputs": [],
   "source": [
    "import numpy as np\n",
    "import pandas as pd\n",
    "import matplotlib.pyplot\n",
    "import seaborn as sns"
   ]
  },
  {
   "cell_type": "markdown",
   "metadata": {},
   "source": [
    "---\n",
    "## ////////////////////////////// 1. Предобработка данных //////////////////////////////"
   ]
  },
  {
   "cell_type": "markdown",
   "metadata": {},
   "source": [
    "---\n",
    "#### Прочитаем данные датасета:"
   ]
  },
  {
   "cell_type": "code",
   "execution_count": 21,
   "metadata": {},
   "outputs": [],
   "source": [
    "data = pd.read_csv(\"charts.csv\")"
   ]
  },
  {
   "cell_type": "markdown",
   "metadata": {},
   "source": [
    "---\n",
    "#### Посмотрим на первые 5 строк:"
   ]
  },
  {
   "cell_type": "code",
   "execution_count": 36,
   "metadata": {
    "scrolled": false
   },
   "outputs": [
    {
     "data": {
      "text/html": [
       "<div>\n",
       "<style scoped>\n",
       "    .dataframe tbody tr th:only-of-type {\n",
       "        vertical-align: middle;\n",
       "    }\n",
       "\n",
       "    .dataframe tbody tr th {\n",
       "        vertical-align: top;\n",
       "    }\n",
       "\n",
       "    .dataframe thead th {\n",
       "        text-align: right;\n",
       "    }\n",
       "</style>\n",
       "<table border=\"1\" class=\"dataframe\">\n",
       "  <thead>\n",
       "    <tr style=\"text-align: right;\">\n",
       "      <th></th>\n",
       "      <th>date</th>\n",
       "      <th>rank</th>\n",
       "      <th>song</th>\n",
       "      <th>artist</th>\n",
       "      <th>last-week</th>\n",
       "      <th>peak-rank</th>\n",
       "      <th>weeks-on-board</th>\n",
       "    </tr>\n",
       "  </thead>\n",
       "  <tbody>\n",
       "    <tr>\n",
       "      <th>0</th>\n",
       "      <td>1958-08-04</td>\n",
       "      <td>1</td>\n",
       "      <td>Poor Little Fool</td>\n",
       "      <td>Ricky Nelson</td>\n",
       "      <td>True</td>\n",
       "      <td>1</td>\n",
       "      <td>1</td>\n",
       "    </tr>\n",
       "    <tr>\n",
       "      <th>1</th>\n",
       "      <td>1958-08-04</td>\n",
       "      <td>2</td>\n",
       "      <td>Patricia</td>\n",
       "      <td>Perez Prado And His Orchestra</td>\n",
       "      <td>True</td>\n",
       "      <td>2</td>\n",
       "      <td>1</td>\n",
       "    </tr>\n",
       "    <tr>\n",
       "      <th>2</th>\n",
       "      <td>1958-08-04</td>\n",
       "      <td>3</td>\n",
       "      <td>Splish Splash</td>\n",
       "      <td>Bobby Darin</td>\n",
       "      <td>True</td>\n",
       "      <td>3</td>\n",
       "      <td>1</td>\n",
       "    </tr>\n",
       "    <tr>\n",
       "      <th>3</th>\n",
       "      <td>1958-08-04</td>\n",
       "      <td>4</td>\n",
       "      <td>Hard Headed Woman</td>\n",
       "      <td>Elvis Presley With The Jordanaires</td>\n",
       "      <td>True</td>\n",
       "      <td>4</td>\n",
       "      <td>1</td>\n",
       "    </tr>\n",
       "    <tr>\n",
       "      <th>4</th>\n",
       "      <td>1958-08-04</td>\n",
       "      <td>5</td>\n",
       "      <td>When</td>\n",
       "      <td>Kalin Twins</td>\n",
       "      <td>True</td>\n",
       "      <td>5</td>\n",
       "      <td>1</td>\n",
       "    </tr>\n",
       "  </tbody>\n",
       "</table>\n",
       "</div>"
      ],
      "text/plain": [
       "         date  rank               song                              artist  \\\n",
       "0  1958-08-04     1   Poor Little Fool                        Ricky Nelson   \n",
       "1  1958-08-04     2           Patricia       Perez Prado And His Orchestra   \n",
       "2  1958-08-04     3      Splish Splash                         Bobby Darin   \n",
       "3  1958-08-04     4  Hard Headed Woman  Elvis Presley With The Jordanaires   \n",
       "4  1958-08-04     5               When                         Kalin Twins   \n",
       "\n",
       "   last-week  peak-rank  weeks-on-board  \n",
       "0       True          1               1  \n",
       "1       True          2               1  \n",
       "2       True          3               1  \n",
       "3       True          4               1  \n",
       "4       True          5               1  "
      ]
     },
     "execution_count": 36,
     "metadata": {},
     "output_type": "execute_result"
    }
   ],
   "source": [
    "data.head()"
   ]
  },
  {
   "cell_type": "markdown",
   "metadata": {},
   "source": [
    "Каждая строка - это песня, объект исследования.  \n",
    "Каждый столбец - признак объектов."
   ]
  },
  {
   "cell_type": "markdown",
   "metadata": {},
   "source": [
    "---\n",
    "#### Посмотрим на размер данных:"
   ]
  },
  {
   "cell_type": "code",
   "execution_count": 24,
   "metadata": {},
   "outputs": [
    {
     "data": {
      "text/plain": [
       "(326687, 7)"
      ]
     },
     "execution_count": 24,
     "metadata": {},
     "output_type": "execute_result"
    }
   ],
   "source": [
    "data.shape"
   ]
  },
  {
   "cell_type": "markdown",
   "metadata": {},
   "source": [
    "Видно, что у нас 326 687 строк и 7 столбцов."
   ]
  },
  {
   "cell_type": "markdown",
   "metadata": {},
   "source": [
    "---\n",
    "#### Выведем названия столбцов:"
   ]
  },
  {
   "cell_type": "code",
   "execution_count": 26,
   "metadata": {},
   "outputs": [
    {
     "data": {
      "text/plain": [
       "Index(['date', 'rank', 'song', 'artist', 'last-week', 'peak-rank',\n",
       "       'weeks-on-board'],\n",
       "      dtype='object')"
      ]
     },
     "execution_count": 26,
     "metadata": {},
     "output_type": "execute_result"
    }
   ],
   "source": [
    "data.columns"
   ]
  },
  {
   "cell_type": "markdown",
   "metadata": {},
   "source": [
    "---\n",
    "#### Посмотрим обшую информацию по датафрейму и всем признакам:"
   ]
  },
  {
   "cell_type": "code",
   "execution_count": 29,
   "metadata": {},
   "outputs": [
    {
     "name": "stdout",
     "output_type": "stream",
     "text": [
      "<class 'pandas.core.frame.DataFrame'>\n",
      "RangeIndex: 326687 entries, 0 to 326686\n",
      "Data columns (total 7 columns):\n",
      " #   Column          Non-Null Count   Dtype  \n",
      "---  ------          --------------   -----  \n",
      " 0   date            326687 non-null  object \n",
      " 1   rank            326687 non-null  int64  \n",
      " 2   song            326687 non-null  object \n",
      " 3   artist          326687 non-null  object \n",
      " 4   last-week       293295 non-null  float64\n",
      " 5   peak-rank       326687 non-null  int64  \n",
      " 6   weeks-on-board  326687 non-null  int64  \n",
      "dtypes: float64(1), int64(3), object(3)\n",
      "memory usage: 17.4+ MB\n"
     ]
    }
   ],
   "source": [
    "data.info()"
   ]
  },
  {
   "cell_type": "markdown",
   "metadata": {},
   "source": [
    "Как мы видим, у нас присутствуют следующие типы данных признаков - числовые (ранг, количество недель в топе) и объектные (дата, наименование артиста/песни).  \n",
    "Стоит заметить, что у признака \"last-week\" есть 33392 пропуска."
   ]
  },
  {
   "cell_type": "markdown",
   "metadata": {},
   "source": [
    "---\n",
    "Поменяем тип колонки \"last-week\":"
   ]
  },
  {
   "cell_type": "code",
   "execution_count": 33,
   "metadata": {},
   "outputs": [],
   "source": [
    "data['last-week'] = data['last-week'].astype('bool')"
   ]
  },
  {
   "cell_type": "markdown",
   "metadata": {},
   "source": [
    "---\n",
    "#### Посмотрим основные статистические характеристики данных по каждому числовому признаку (типы int64 и float64):\n",
    "число непропущенных значений, среднее, стандартное отклонение, диапазон, медиану, 0.25 и 0.75 квартили."
   ]
  },
  {
   "cell_type": "code",
   "execution_count": 34,
   "metadata": {},
   "outputs": [
    {
     "data": {
      "text/html": [
       "<div>\n",
       "<style scoped>\n",
       "    .dataframe tbody tr th:only-of-type {\n",
       "        vertical-align: middle;\n",
       "    }\n",
       "\n",
       "    .dataframe tbody tr th {\n",
       "        vertical-align: top;\n",
       "    }\n",
       "\n",
       "    .dataframe thead th {\n",
       "        text-align: right;\n",
       "    }\n",
       "</style>\n",
       "<table border=\"1\" class=\"dataframe\">\n",
       "  <thead>\n",
       "    <tr style=\"text-align: right;\">\n",
       "      <th></th>\n",
       "      <th>rank</th>\n",
       "      <th>peak-rank</th>\n",
       "      <th>weeks-on-board</th>\n",
       "    </tr>\n",
       "  </thead>\n",
       "  <tbody>\n",
       "    <tr>\n",
       "      <th>count</th>\n",
       "      <td>326687.000000</td>\n",
       "      <td>326687.000000</td>\n",
       "      <td>326687.000000</td>\n",
       "    </tr>\n",
       "    <tr>\n",
       "      <th>mean</th>\n",
       "      <td>50.500938</td>\n",
       "      <td>41.039582</td>\n",
       "      <td>9.136880</td>\n",
       "    </tr>\n",
       "    <tr>\n",
       "      <th>std</th>\n",
       "      <td>28.866095</td>\n",
       "      <td>29.351217</td>\n",
       "      <td>7.566568</td>\n",
       "    </tr>\n",
       "    <tr>\n",
       "      <th>min</th>\n",
       "      <td>1.000000</td>\n",
       "      <td>1.000000</td>\n",
       "      <td>1.000000</td>\n",
       "    </tr>\n",
       "    <tr>\n",
       "      <th>25%</th>\n",
       "      <td>26.000000</td>\n",
       "      <td>14.000000</td>\n",
       "      <td>4.000000</td>\n",
       "    </tr>\n",
       "    <tr>\n",
       "      <th>50%</th>\n",
       "      <td>51.000000</td>\n",
       "      <td>38.000000</td>\n",
       "      <td>7.000000</td>\n",
       "    </tr>\n",
       "    <tr>\n",
       "      <th>75%</th>\n",
       "      <td>76.000000</td>\n",
       "      <td>66.000000</td>\n",
       "      <td>13.000000</td>\n",
       "    </tr>\n",
       "    <tr>\n",
       "      <th>max</th>\n",
       "      <td>100.000000</td>\n",
       "      <td>100.000000</td>\n",
       "      <td>87.000000</td>\n",
       "    </tr>\n",
       "  </tbody>\n",
       "</table>\n",
       "</div>"
      ],
      "text/plain": [
       "                rank      peak-rank  weeks-on-board\n",
       "count  326687.000000  326687.000000   326687.000000\n",
       "mean       50.500938      41.039582        9.136880\n",
       "std        28.866095      29.351217        7.566568\n",
       "min         1.000000       1.000000        1.000000\n",
       "25%        26.000000      14.000000        4.000000\n",
       "50%        51.000000      38.000000        7.000000\n",
       "75%        76.000000      66.000000       13.000000\n",
       "max       100.000000     100.000000       87.000000"
      ]
     },
     "execution_count": 34,
     "metadata": {},
     "output_type": "execute_result"
    }
   ],
   "source": [
    "data.describe()"
   ]
  },
  {
   "cell_type": "markdown",
   "metadata": {},
   "source": [
    "---\n",
    "#### Теперь посмотрим статистику по нечисловым типам данных:"
   ]
  },
  {
   "cell_type": "code",
   "execution_count": 35,
   "metadata": {},
   "outputs": [
    {
     "data": {
      "text/html": [
       "<div>\n",
       "<style scoped>\n",
       "    .dataframe tbody tr th:only-of-type {\n",
       "        vertical-align: middle;\n",
       "    }\n",
       "\n",
       "    .dataframe tbody tr th {\n",
       "        vertical-align: top;\n",
       "    }\n",
       "\n",
       "    .dataframe thead th {\n",
       "        text-align: right;\n",
       "    }\n",
       "</style>\n",
       "<table border=\"1\" class=\"dataframe\">\n",
       "  <thead>\n",
       "    <tr style=\"text-align: right;\">\n",
       "      <th></th>\n",
       "      <th>date</th>\n",
       "      <th>song</th>\n",
       "      <th>artist</th>\n",
       "      <th>last-week</th>\n",
       "    </tr>\n",
       "  </thead>\n",
       "  <tbody>\n",
       "    <tr>\n",
       "      <th>count</th>\n",
       "      <td>326687</td>\n",
       "      <td>326687</td>\n",
       "      <td>326687</td>\n",
       "      <td>326687</td>\n",
       "    </tr>\n",
       "    <tr>\n",
       "      <th>unique</th>\n",
       "      <td>3267</td>\n",
       "      <td>24254</td>\n",
       "      <td>9994</td>\n",
       "      <td>1</td>\n",
       "    </tr>\n",
       "    <tr>\n",
       "      <th>top</th>\n",
       "      <td>2014-04-05</td>\n",
       "      <td>Stay</td>\n",
       "      <td>Taylor Swift</td>\n",
       "      <td>True</td>\n",
       "    </tr>\n",
       "    <tr>\n",
       "      <th>freq</th>\n",
       "      <td>100</td>\n",
       "      <td>208</td>\n",
       "      <td>1005</td>\n",
       "      <td>326687</td>\n",
       "    </tr>\n",
       "  </tbody>\n",
       "</table>\n",
       "</div>"
      ],
      "text/plain": [
       "              date    song        artist last-week\n",
       "count       326687  326687        326687    326687\n",
       "unique        3267   24254          9994         1\n",
       "top     2014-04-05    Stay  Taylor Swift      True\n",
       "freq           100     208          1005    326687"
      ]
     },
     "execution_count": 35,
     "metadata": {},
     "output_type": "execute_result"
    }
   ],
   "source": [
    "data.describe(include=['object', 'bool'])"
   ]
  },
  {
   "cell_type": "markdown",
   "metadata": {},
   "source": [
    "---\n",
    "#### Для категориальных (тип object) и булевых (тип bool) признаков можно воспользоваться методом value_counts.  \n",
    "Посмотрим на распределение данных по нашей целевой переменной — song:"
   ]
  },
  {
   "cell_type": "code",
   "execution_count": 47,
   "metadata": {},
   "outputs": [
    {
     "data": {
      "text/plain": [
       "song\n",
       "Stay                  208\n",
       "Angel                 205\n",
       "Heaven                194\n",
       "Hold On               189\n",
       "I Like It             188\n",
       "                     ... \n",
       "Posted With Demons      1\n",
       "For Good                1\n",
       "Shake The Room          1\n",
       "Barcelona               1\n",
       "Escape From LA          1\n",
       "Length: 24254, dtype: int64"
      ]
     },
     "execution_count": 47,
     "metadata": {},
     "output_type": "execute_result"
    }
   ],
   "source": [
    "data.value_counts('song')"
   ]
  },
  {
   "cell_type": "markdown",
   "metadata": {},
   "source": [
    "---\n",
    "Параметр \"normalize\" отображает данные в относительных величинах:"
   ]
  },
  {
   "cell_type": "code",
   "execution_count": 49,
   "metadata": {},
   "outputs": [
    {
     "data": {
      "text/plain": [
       "1      0.050467\n",
       "2      0.023604\n",
       "3      0.021289\n",
       "4      0.019346\n",
       "5      0.017873\n",
       "         ...   \n",
       "96     0.005103\n",
       "97     0.004895\n",
       "98     0.004680\n",
       "99     0.004157\n",
       "100    0.003695\n",
       "Name: peak-rank, Length: 100, dtype: float64"
      ]
     },
     "execution_count": 49,
     "metadata": {},
     "output_type": "execute_result"
    }
   ],
   "source": [
    "data['peak-rank'].value_counts(normalize=True)"
   ]
  },
  {
   "cell_type": "markdown",
   "metadata": {},
   "source": [
    "---\n",
    "#### Сортировка"
   ]
  },
  {
   "cell_type": "markdown",
   "metadata": {},
   "source": [
    "DataFrame можно отсортировать по значению какого-нибудь из признаков (ascending=False для сортировки по убыванию):"
   ]
  },
  {
   "cell_type": "code",
   "execution_count": 54,
   "metadata": {},
   "outputs": [
    {
     "data": {
      "text/html": [
       "<div>\n",
       "<style scoped>\n",
       "    .dataframe tbody tr th:only-of-type {\n",
       "        vertical-align: middle;\n",
       "    }\n",
       "\n",
       "    .dataframe tbody tr th {\n",
       "        vertical-align: top;\n",
       "    }\n",
       "\n",
       "    .dataframe thead th {\n",
       "        text-align: right;\n",
       "    }\n",
       "</style>\n",
       "<table border=\"1\" class=\"dataframe\">\n",
       "  <thead>\n",
       "    <tr style=\"text-align: right;\">\n",
       "      <th></th>\n",
       "      <th>date</th>\n",
       "      <th>rank</th>\n",
       "      <th>song</th>\n",
       "      <th>artist</th>\n",
       "      <th>last-week</th>\n",
       "      <th>peak-rank</th>\n",
       "      <th>weeks-on-board</th>\n",
       "    </tr>\n",
       "  </thead>\n",
       "  <tbody>\n",
       "    <tr>\n",
       "      <th>326686</th>\n",
       "      <td>2021-03-13</td>\n",
       "      <td>100</td>\n",
       "      <td>Bichota</td>\n",
       "      <td>Karol G</td>\n",
       "      <td>True</td>\n",
       "      <td>72</td>\n",
       "      <td>13</td>\n",
       "    </tr>\n",
       "    <tr>\n",
       "      <th>292686</th>\n",
       "      <td>2014-09-06</td>\n",
       "      <td>100</td>\n",
       "      <td>Dare (La La La)</td>\n",
       "      <td>Shakira</td>\n",
       "      <td>True</td>\n",
       "      <td>53</td>\n",
       "      <td>11</td>\n",
       "    </tr>\n",
       "    <tr>\n",
       "      <th>263286</th>\n",
       "      <td>2009-01-17</td>\n",
       "      <td>100</td>\n",
       "      <td>River Of Love</td>\n",
       "      <td>George Strait</td>\n",
       "      <td>True</td>\n",
       "      <td>87</td>\n",
       "      <td>4</td>\n",
       "    </tr>\n",
       "    <tr>\n",
       "      <th>148086</th>\n",
       "      <td>1986-12-20</td>\n",
       "      <td>100</td>\n",
       "      <td>Stranglehold</td>\n",
       "      <td>Paul McCartney</td>\n",
       "      <td>True</td>\n",
       "      <td>81</td>\n",
       "      <td>6</td>\n",
       "    </tr>\n",
       "    <tr>\n",
       "      <th>292986</th>\n",
       "      <td>2014-09-27</td>\n",
       "      <td>100</td>\n",
       "      <td>Good Kisser</td>\n",
       "      <td>Usher</td>\n",
       "      <td>True</td>\n",
       "      <td>65</td>\n",
       "      <td>19</td>\n",
       "    </tr>\n",
       "    <tr>\n",
       "      <th>81399</th>\n",
       "      <td>1974-03-09</td>\n",
       "      <td>100</td>\n",
       "      <td>Once You Understand</td>\n",
       "      <td>Think</td>\n",
       "      <td>True</td>\n",
       "      <td>100</td>\n",
       "      <td>1</td>\n",
       "    </tr>\n",
       "    <tr>\n",
       "      <th>221186</th>\n",
       "      <td>2000-12-23</td>\n",
       "      <td>100</td>\n",
       "      <td>Do You</td>\n",
       "      <td>Funkmaster Flex Featuring DMX</td>\n",
       "      <td>True</td>\n",
       "      <td>91</td>\n",
       "      <td>7</td>\n",
       "    </tr>\n",
       "    <tr>\n",
       "      <th>48899</th>\n",
       "      <td>1967-12-16</td>\n",
       "      <td>100</td>\n",
       "      <td>A Little Rain Must Fall</td>\n",
       "      <td>The Epic Splendor</td>\n",
       "      <td>True</td>\n",
       "      <td>100</td>\n",
       "      <td>1</td>\n",
       "    </tr>\n",
       "    <tr>\n",
       "      <th>196986</th>\n",
       "      <td>1996-05-04</td>\n",
       "      <td>100</td>\n",
       "      <td>Where Do U Want Me To Put It</td>\n",
       "      <td>Solo</td>\n",
       "      <td>True</td>\n",
       "      <td>50</td>\n",
       "      <td>18</td>\n",
       "    </tr>\n",
       "    <tr>\n",
       "      <th>164686</th>\n",
       "      <td>1990-02-24</td>\n",
       "      <td>100</td>\n",
       "      <td>This One's For The Children</td>\n",
       "      <td>New Kids On The Block</td>\n",
       "      <td>True</td>\n",
       "      <td>7</td>\n",
       "      <td>16</td>\n",
       "    </tr>\n",
       "    <tr>\n",
       "      <th>100086</th>\n",
       "      <td>1977-10-08</td>\n",
       "      <td>100</td>\n",
       "      <td>Da Doo Ron Ron</td>\n",
       "      <td>Shaun Cassidy</td>\n",
       "      <td>True</td>\n",
       "      <td>1</td>\n",
       "      <td>22</td>\n",
       "    </tr>\n",
       "    <tr>\n",
       "      <th>263386</th>\n",
       "      <td>2009-01-24</td>\n",
       "      <td>100</td>\n",
       "      <td>Go Hard</td>\n",
       "      <td>DJ Khaled Featuring Kanye West &amp; T-Pain</td>\n",
       "      <td>True</td>\n",
       "      <td>69</td>\n",
       "      <td>2</td>\n",
       "    </tr>\n",
       "    <tr>\n",
       "      <th>292886</th>\n",
       "      <td>2014-09-20</td>\n",
       "      <td>100</td>\n",
       "      <td>Look At You</td>\n",
       "      <td>Big &amp; Rich</td>\n",
       "      <td>True</td>\n",
       "      <td>100</td>\n",
       "      <td>1</td>\n",
       "    </tr>\n",
       "    <tr>\n",
       "      <th>133886</th>\n",
       "      <td>1984-03-31</td>\n",
       "      <td>100</td>\n",
       "      <td>She Was Hot</td>\n",
       "      <td>The Rolling Stones</td>\n",
       "      <td>True</td>\n",
       "      <td>44</td>\n",
       "      <td>9</td>\n",
       "    </tr>\n",
       "    <tr>\n",
       "      <th>322886</th>\n",
       "      <td>2020-06-20</td>\n",
       "      <td>100</td>\n",
       "      <td>Worldwide Beautiful</td>\n",
       "      <td>Kane Brown</td>\n",
       "      <td>True</td>\n",
       "      <td>100</td>\n",
       "      <td>1</td>\n",
       "    </tr>\n",
       "  </tbody>\n",
       "</table>\n",
       "</div>"
      ],
      "text/plain": [
       "              date  rank                          song  \\\n",
       "326686  2021-03-13   100                       Bichota   \n",
       "292686  2014-09-06   100               Dare (La La La)   \n",
       "263286  2009-01-17   100                 River Of Love   \n",
       "148086  1986-12-20   100                  Stranglehold   \n",
       "292986  2014-09-27   100                   Good Kisser   \n",
       "81399   1974-03-09   100           Once You Understand   \n",
       "221186  2000-12-23   100                        Do You   \n",
       "48899   1967-12-16   100       A Little Rain Must Fall   \n",
       "196986  1996-05-04   100  Where Do U Want Me To Put It   \n",
       "164686  1990-02-24   100   This One's For The Children   \n",
       "100086  1977-10-08   100                Da Doo Ron Ron   \n",
       "263386  2009-01-24   100                       Go Hard   \n",
       "292886  2014-09-20   100                   Look At You   \n",
       "133886  1984-03-31   100                   She Was Hot   \n",
       "322886  2020-06-20   100           Worldwide Beautiful   \n",
       "\n",
       "                                         artist  last-week  peak-rank  \\\n",
       "326686                                  Karol G       True         72   \n",
       "292686                                  Shakira       True         53   \n",
       "263286                            George Strait       True         87   \n",
       "148086                           Paul McCartney       True         81   \n",
       "292986                                    Usher       True         65   \n",
       "81399                                     Think       True        100   \n",
       "221186            Funkmaster Flex Featuring DMX       True         91   \n",
       "48899                         The Epic Splendor       True        100   \n",
       "196986                                     Solo       True         50   \n",
       "164686                    New Kids On The Block       True          7   \n",
       "100086                            Shaun Cassidy       True          1   \n",
       "263386  DJ Khaled Featuring Kanye West & T-Pain       True         69   \n",
       "292886                               Big & Rich       True        100   \n",
       "133886                       The Rolling Stones       True         44   \n",
       "322886                               Kane Brown       True        100   \n",
       "\n",
       "        weeks-on-board  \n",
       "326686              13  \n",
       "292686              11  \n",
       "263286               4  \n",
       "148086               6  \n",
       "292986              19  \n",
       "81399                1  \n",
       "221186               7  \n",
       "48899                1  \n",
       "196986              18  \n",
       "164686              16  \n",
       "100086              22  \n",
       "263386               2  \n",
       "292886               1  \n",
       "133886               9  \n",
       "322886               1  "
      ]
     },
     "execution_count": 54,
     "metadata": {},
     "output_type": "execute_result"
    }
   ],
   "source": [
    "data.sort_values(by='rank', ascending=False).head(15)"
   ]
  },
  {
   "cell_type": "markdown",
   "metadata": {},
   "source": [
    "---\n",
    "## ////////////////////////////// 2. Визуализация данных //////////////////////////////"
   ]
  },
  {
   "cell_type": "code",
   "execution_count": 63,
   "metadata": {},
   "outputs": [
    {
     "data": {
      "image/png": "[encoded data removed]",
      "text/plain": [
       "<Figure size 180x180 with 2 Axes>"
      ]
     },
     "metadata": {
      "needs_background": "light"
     },
     "output_type": "display_data"
    }
   ],
   "source": [
    "cols = ['song', 'artist', 'rank']\n",
    "sns_plot = sns.pairplot(data[cols])"
   ]
  },
  {
   "cell_type": "code",
   "execution_count": null,
   "metadata": {},
   "outputs": [],
   "source": []
  }
 ],
 "metadata": {
  "kernelspec": {
   "display_name": "Python 3",
   "language": "python",
   "name": "python3"
  },
  "language_info": {
   "codemirror_mode": {
    "name": "ipython",
    "version": 3
   },
   "file_extension": ".py",
   "mimetype": "text/x-python",
   "name": "python",
   "nbconvert_exporter": "python",
   "pygments_lexer": "ipython3",
   "version": "3.8.5"
  }
 },
 "nbformat": 4,
 "nbformat_minor": 4
}
