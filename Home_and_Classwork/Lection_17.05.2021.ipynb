{
 "cells": [
  {
   "cell_type": "code",
   "execution_count": 1,
   "metadata": {},
   "outputs": [],
   "source": [
    "import numpy as np\n",
    "from matplotlib import pyplot as plt"
   ]
  },
  {
   "cell_type": "code",
   "execution_count": 6,
   "metadata": {},
   "outputs": [],
   "source": [
    "def data_gen(k, b, points_num, percent):\n",
    "    inliners_points = [(x, k*x+b+np.random.normal()) for x in np.random.uniform(0,10, size=int(points_num*percent))]\n",
    "    outliners_points = [(x, k*x+b+np.random.normal(scale=5.0)) for x in np.random.uniform(0,10, size=int(points_num*(1-percent)))]\n",
    "    return np.concatenate([inliners_points, outliners_points])"
   ]
  },
  {
   "cell_type": "code",
   "execution_count": 7,
   "metadata": {},
   "outputs": [],
   "source": [
    "data = data_gen(3, 0, 100, 0.8)"
   ]
  },
  {
   "cell_type": "code",
   "execution_count": 8,
   "metadata": {},
   "outputs": [
    {
     "data": {
      "text/plain": [
       "<matplotlib.collections.PathCollection at 0x1bba0202dc0>"
      ]
     },
     "execution_count": 8,
     "metadata": {},
     "output_type": "execute_result"
    },
    {
     "data": {
      "image/png": "[encoded data removed]",
      "text/plain": [
       "<Figure size 432x288 with 1 Axes>"
      ]
     },
     "metadata": {
      "needs_background": "light"
     },
     "output_type": "display_data"
    }
   ],
   "source": [
    "plt.scatter(data[:,0], data[:,1])"
   ]
  },
  {
   "cell_type": "code",
   "execution_count": 45,
   "metadata": {},
   "outputs": [],
   "source": [
    "def liner_ransac(data, iter_number=100, epsilon=10, inliner_min=10):\n",
    "    best_score = np.Inf\n",
    "    for i in range(iter_number):\n",
    "        indexes = np.random.choice(data.shape[0], 2, replace=False)\n",
    "        #print(indexes)\n",
    "        p1, p2 = data[indexes, :]\n",
    "        \n",
    "        k = (p2[1]-p1[1])/(p2[0]-p1[0])\n",
    "        b = p1[1] - p1[0]*k\n",
    "        \n",
    "        inliners = []\n",
    "        error = 0\n",
    "        \n",
    "        for p in np.delete(data, indexes, axis=0):\n",
    "            d = np.linalg.norm(np.cross(p2-p1, p1-p))/np.linalg.norm(p2-p1)\n",
    "            if d < epsilon:\n",
    "                inliners.append(p)\n",
    "                error += d\n",
    "        \n",
    "        #print(i, error, len(inliners))\n",
    "        if len(inliners) < inliner_min:\n",
    "            continue\n",
    "        \n",
    "        if error < best_score:\n",
    "            best_score = error\n",
    "            best_params = k, b\n",
    "            best_inliners = inliners\n",
    "            \n",
    "    return (best_score, best_params, best_inliners)"
   ]
  },
  {
   "cell_type": "code",
   "execution_count": 46,
   "metadata": {
    "scrolled": true
   },
   "outputs": [
    {
     "data": {
      "text/plain": [
       "(37.56178335006075, (3.0658863856787946, -0.4928462081820939), 97)"
      ]
     },
     "execution_count": 46,
     "metadata": {},
     "output_type": "execute_result"
    }
   ],
   "source": [
    "data = data_gen(3,0,100,0.8)\n",
    "score, params, inliners = liner_ransac(data)\n",
    "score, params, len(inliners)"
   ]
  },
  {
   "cell_type": "code",
   "execution_count": 50,
   "metadata": {
    "scrolled": true
   },
   "outputs": [
    {
     "data": {
      "text/plain": [
       "[<matplotlib.lines.Line2D at 0x1bba37c6df0>]"
      ]
     },
     "execution_count": 50,
     "metadata": {},
     "output_type": "execute_result"
    },
    {
     "data": {
      "image/png": "[encoded data removed]",
      "text/plain": [
       "<Figure size 432x288 with 1 Axes>"
      ]
     },
     "metadata": {
      "needs_background": "light"
     },
     "output_type": "display_data"
    }
   ],
   "source": [
    "plt.scatter(data[:,0], data[:,1], s=6)\n",
    "min_var = min(data[:,0])\n",
    "max_var = max(data[:,0])\n",
    "k, b = params\n",
    "plt.plot([min_var, max_var], [k*min_var+b, k*max_var+b], c=\"r\")"
   ]
  },
  {
   "cell_type": "markdown",
   "metadata": {},
   "source": [
    "---\n",
    "### ДЗ:\n",
    "применить рансак алгоритм но не для прямой а для того чтобы оценить параметры эллипса\n",
    "то есть у нас будет эллипс на плоскости\n",
    "еще выбросы\n",
    "и нужно написать тоже что и сегодня только для эллипса\n",
    "\n",
    "нужно минимум три точки чтобы провести эллипс\n",
    "\n",
    "+посмотреть как применяют рансак для окружностей\n",
    "\n",
    "От Vadim Kondarattsev всем:  08:49 PM\n",
    "https://medium.com/mlearning-ai/ransac-algorithm-for-circles-1e10a5d8617   \n",
    "посмотреть метод оптимизации Рэнди Буллока\n",
    "\n",
    "-----\n",
    "следующее занятие на 1 июня число перенесется"
   ]
  },
  {
   "cell_type": "markdown",
   "metadata": {},
   "source": [
    "---\n",
    "где то 8 июня зачет с оценкой\n",
    "\n",
    "3 июня в 18:15 проверить можем ли, оффлайн\n",
    "\n",
    "5 июня с утра скорее всего онлайн, мб оффлайн\n"
   ]
  },
  {
   "cell_type": "markdown",
   "metadata": {},
   "source": [
    "---\n",
    "список вопросов есть, но там больше чем мы прошли\n",
    "препод выкинет оттуда лишнее и пришлет на неделе"
   ]
  },
  {
   "cell_type": "markdown",
   "metadata": {},
   "source": [
    "заглянуть в книжку яны косолеевой про рансак"
   ]
  },
  {
   "cell_type": "markdown",
   "metadata": {},
   "source": [
    "ансамблевые методы про них почитать можем\n",
    "про классические\n",
    "рандом форест зе буст"
   ]
  },
  {
   "cell_type": "markdown",
   "metadata": {},
   "source": [
    "1 теор\n"
   ]
  },
  {
   "cell_type": "markdown",
   "metadata": {},
   "source": [
    "вопросы + код для небольшой задачи при преподе\n",
    "+вопрос по алгоритму по примеру"
   ]
  },
  {
   "cell_type": "markdown",
   "metadata": {},
   "source": []
  }
 ],
 "metadata": {
  "kernelspec": {
   "display_name": "Python 3",
   "language": "python",
   "name": "python3"
  },
  "language_info": {
   "codemirror_mode": {
    "name": "ipython",
    "version": 3
   },
   "file_extension": ".py",
   "mimetype": "text/x-python",
   "name": "python",
   "nbconvert_exporter": "python",
   "pygments_lexer": "ipython3",
   "version": "3.8.5"
  }
 },
 "nbformat": 4,
 "nbformat_minor": 4
}
