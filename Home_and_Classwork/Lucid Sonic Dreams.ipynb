{
 "cells": [
  {
   "cell_type": "code",
   "execution_count": 1,
   "metadata": {
    "scrolled": true
   },
   "outputs": [
    {
     "name": "stdout",
     "output_type": "stream",
     "text": [
      "Collecting lucidsonicdreams\n",
      "  Using cached lucidsonicdreams-0.4.tar.gz (11 kB)\n",
      "  Using cached lucidsonicdreams-0.3.tar.gz (11 kB)\n",
      "  Using cached lucidsonicdreams-0.2.tar.gz (11 kB)\n",
      "Note: you may need to restart the kernel to use updated packages.\n"
     ]
    },
    {
     "name": "stderr",
     "output_type": "stream",
     "text": [
      "    ERROR: Command errored out with exit status 1:\n",
      "     command: 'c:\\users\\alosha\\appdata\\local\\programs\\python\\python38\\python.exe' -c 'import sys, setuptools, tokenize; sys.argv[0] = '\"'\"'C:\\\\Users\\\\alosha\\\\AppData\\\\Local\\\\Temp\\\\pip-install-83gj1wv0\\\\lucidsonicdreams_b01951df98af431dbab284af2ed79a67\\\\setup.py'\"'\"'; __file__='\"'\"'C:\\\\Users\\\\alosha\\\\AppData\\\\Local\\\\Temp\\\\pip-install-83gj1wv0\\\\lucidsonicdreams_b01951df98af431dbab284af2ed79a67\\\\setup.py'\"'\"';f=getattr(tokenize, '\"'\"'open'\"'\"', open)(__file__);code=f.read().replace('\"'\"'\\r\\n'\"'\"', '\"'\"'\\n'\"'\"');f.close();exec(compile(code, __file__, '\"'\"'exec'\"'\"'))' egg_info --egg-base 'C:\\Users\\alosha\\AppData\\Local\\Temp\\pip-pip-egg-info-8_f321xd'\n",
      "         cwd: C:\\Users\\alosha\\AppData\\Local\\Temp\\pip-install-83gj1wv0\\lucidsonicdreams_b01951df98af431dbab284af2ed79a67\\\n",
      "    Complete output (5 lines):\n",
      "    Traceback (most recent call last):\n",
      "      File \"<string>\", line 1, in <module>\n",
      "      File \"C:\\Users\\alosha\\AppData\\Local\\Temp\\pip-install-83gj1wv0\\lucidsonicdreams_b01951df98af431dbab284af2ed79a67\\setup.py\", line 5, in <module>\n",
      "        with open('requires.txt') as f:\n",
      "    FileNotFoundError: [Errno 2] No such file or directory: 'requires.txt'\n",
      "    ----------------------------------------\n",
      "WARNING: Discarding https://files.pythonhosted.org/packages/d7/83/4a4d53f2fb26fdb1c99cb7f6bbcda0a09803961674a3704181d85d3332df/lucidsonicdreams-0.3.tar.gz#sha256=305452861e1fa9abc5233022d45b0793f0c5ac78ef1cd0a070c87ad7b90ac8d4 (from https://pypi.org/simple/lucidsonicdreams/). Command errored out with exit status 1: python setup.py egg_info Check the logs for full command output.\n",
      "    ERROR: Command errored out with exit status 1:\n",
      "     command: 'c:\\users\\alosha\\appdata\\local\\programs\\python\\python38\\python.exe' -c 'import sys, setuptools, tokenize; sys.argv[0] = '\"'\"'C:\\\\Users\\\\alosha\\\\AppData\\\\Local\\\\Temp\\\\pip-install-83gj1wv0\\\\lucidsonicdreams_4aa47ee13fcc4cb3b066a2c7162ad458\\\\setup.py'\"'\"'; __file__='\"'\"'C:\\\\Users\\\\alosha\\\\AppData\\\\Local\\\\Temp\\\\pip-install-83gj1wv0\\\\lucidsonicdreams_4aa47ee13fcc4cb3b066a2c7162ad458\\\\setup.py'\"'\"';f=getattr(tokenize, '\"'\"'open'\"'\"', open)(__file__);code=f.read().replace('\"'\"'\\r\\n'\"'\"', '\"'\"'\\n'\"'\"');f.close();exec(compile(code, __file__, '\"'\"'exec'\"'\"'))' egg_info --egg-base 'C:\\Users\\alosha\\AppData\\Local\\Temp\\pip-pip-egg-info-fwp5chdl'\n",
      "         cwd: C:\\Users\\alosha\\AppData\\Local\\Temp\\pip-install-83gj1wv0\\lucidsonicdreams_4aa47ee13fcc4cb3b066a2c7162ad458\\\n",
      "    Complete output (5 lines):\n",
      "    Traceback (most recent call last):\n",
      "      File \"<string>\", line 1, in <module>\n",
      "      File \"C:\\Users\\alosha\\AppData\\Local\\Temp\\pip-install-83gj1wv0\\lucidsonicdreams_4aa47ee13fcc4cb3b066a2c7162ad458\\setup.py\", line 5, in <module>\n",
      "        with open('requirements.txt') as f:\n",
      "    FileNotFoundError: [Errno 2] No such file or directory: 'requirements.txt'\n",
      "    ----------------------------------------\n",
      "WARNING: Discarding https://files.pythonhosted.org/packages/da/11/7023ff17dbe1c22a44e68d21733aba09377dc523420724d4fa1a2decc4c0/lucidsonicdreams-0.2.tar.gz#sha256=90c96ad446c4d12579737ba2b39476537dfbe42be8515e90294562191150e42e (from https://pypi.org/simple/lucidsonicdreams/). Command errored out with exit status 1: python setup.py egg_info Check the logs for full command output.\n",
      "ERROR: Could not find a version that satisfies the requirement tensorflow==1.15 (from lucidsonicdreams)\n",
      "ERROR: No matching distribution found for tensorflow==1.15\n"
     ]
    }
   ],
   "source": [
    "pip install lucidsonicdreams"
   ]
  },
  {
   "cell_type": "code",
   "execution_count": null,
   "metadata": {},
   "outputs": [],
   "source": []
  }
 ],
 "metadata": {
  "kernelspec": {
   "display_name": "Python 3",
   "language": "python",
   "name": "python3"
  },
  "language_info": {
   "codemirror_mode": {
    "name": "ipython",
    "version": 3
   },
   "file_extension": ".py",
   "mimetype": "text/x-python",
   "name": "python",
   "nbconvert_exporter": "python",
   "pygments_lexer": "ipython3",
   "version": "3.8.5"
  }
 },
 "nbformat": 4,
 "nbformat_minor": 4
}
